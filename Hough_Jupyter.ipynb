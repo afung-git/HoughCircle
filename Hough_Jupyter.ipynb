{
 "cells": [
  {
   "cell_type": "code",
   "execution_count": null,
   "metadata": {},
   "outputs": [],
   "source": [
    "import cv2\n",
    "import numpy as np\n",
    "import math\n",
    "from matplotlib import pyplot as plt\n",
    "\n",
    "\n",
    "def findCircles(accumulator, threshold, minRadius):\n",
    "\n",
    "    threshold = int(threshold*np.max(accumulator))\n",
    "    print(threshold)\n",
    "    def findMax (array):\n",
    "        max = np.unravel_index(np.argmax(array,axis=None), array.shape)\n",
    "        # value = array[(np.unravel_index(np.argmax(array,axis=None), array.shape))]\n",
    "        return (max)\n",
    "    \n",
    "    circle = []\n",
    "    x = y = r = 0\n",
    "    while accumulator[(findMax(accumulator))] > threshold:\n",
    "        # accumulator[x,y,r)] = 0\n",
    "        (x,y,r) = findMax(accumulator)\n",
    "        circle.append((x,y,r))\n",
    "        accumulator[(x,y,r)] = 0\n",
    "        # for i in range(minRadius+1):\n",
    "        #     for j in range(minRadius+1):\n",
    "        #         if x-i < 0 or x+i > 99 or y-j < 0 or y+j > 99:\n",
    "        #             accumulator[x,y,r] = 0\n",
    "        #         else:\n",
    "        #             accumulator[(x-i, y -j, r)] = 0\n",
    "        #             accumulator[(x+i, y +j, r)] = 0\n",
    "#     print(np.max(accumulator))\n",
    "    return circle\n",
    "\n",
    "imgfile = 'images/test2_100.jpg'\n",
    "\n",
    "image = cv2.imread(imgfile)\n",
    "output = image.copy()\n",
    "imgBlur = cv2.medianBlur(image, 5)\n",
    "gray = cv2.cvtColor(imgBlur,cv2.COLOR_BGR2GRAY)\n",
    "# print(image)\n",
    "# imagegray = cv2.cvtColor(image, cv2.COLOR_BGR2GRAY)\n",
    "\n",
    "\n",
    "\n",
    "\n",
    "# implementation based on OpenCV HoughCircles algorithm\n",
    "\n",
    "# circles = cv2.HoughCircles(gray, cv2.HOUGH_GRADIENT,1,5, param1 = 50, param2 = 30)\n",
    "\n",
    "# print(circles)\n",
    "\n",
    "# if circles is not None:\n",
    "#     circles = np.round(circles[0, :]).astype(\"int\")\n",
    "\n",
    "#     for (x, y, r) in circles:\n",
    "#         cv2.circle(output, (x,y), r, (0, 0,255), 2)\n",
    "#         # cv2.rectangle(output, ?)\n",
    "\n",
    "\n",
    "\n",
    "# implementation using custom algorithm\n",
    "\n",
    "\n",
    "edges = cv2.Canny(gray,30,50)\n",
    "[ximg,yimg] = np.nonzero(edges)\n",
    "edgePts = np.vstack([ximg,yimg]).T\n",
    "\n",
    "# print(edgePts)\n",
    "xMax = gray.shape[0]\n",
    "yMax = gray.shape[1]\n",
    "rMax = int(math.sqrt((xMax)**2 + (yMax)**2)) \n",
    "threshold = .7\n",
    "# print(rMax)\n",
    "acc = np.zeros((xMax,yMax,rMax), dtype = int)\n",
    "\n",
    "# print(acc[0,0,0])\n",
    "\n",
    "# acc[0,0,0] = 1\n",
    "\n",
    "print(acc.shape)\n",
    "\n",
    "for i in edgePts:\n",
    "    for a in range(xMax):\n",
    "        for b in range(yMax):\n",
    "            r = int(math.sqrt((i[0] - a)**2 + (i[1] - b)**2))\n",
    "            acc[a,b,r] += 1\n",
    "\n",
    "# print(np.sort(acc, axis=None)[-1])\n",
    "# circle = []\n",
    "results = findCircles(acc,threshold, 5)\n",
    "\n",
    "if results is not None:\n",
    "    # circles = np.round(circles[0, :]).astype(\"int\")\n",
    "\n",
    "    for (x, y, r) in results:\n",
    "        cv2.circle(output, (y,x), r, (0, 0,255), 2)\n",
    "\n",
    "\n",
    "print(np.unravel_index(np.argmax(acc,axis=None), acc.shape))\n",
    "plt.imshow(acc[:,:,20], cmap=\"gray\")\n",
    "plt.show()"
   ]
  },
  {
   "cell_type": "code",
   "execution_count": null,
   "metadata": {},
   "outputs": [],
   "source": [
    "import cv2\n",
    "import numpy as np\n",
    "import math\n",
    "from matplotlib import pyplot as plt\n",
    "\n",
    "imgfile = 'images/two.jpg'\n",
    "\n",
    "image = cv2.imread(imgfile)\n",
    "output = image.copy()\n",
    "imgBlur = cv2.medianBlur(image, 5)\n",
    "gray = cv2.cvtColor(imgBlur,cv2.COLOR_BGR2GRAY)\n",
    "\n",
    "# implementation using custom algorithm\n",
    "\n",
    "\n",
    "edges = cv2.Canny(gray,30,50)\n",
    "[ximg,yimg] = np.nonzero(edges)\n",
    "edgePts = np.vstack([ximg,yimg]).T\n",
    "\n",
    "\n",
    "\n",
    "plt.subplot(121)\n",
    "plt.imshow(gray, cmap='gray')\n",
    "\n",
    "plt.subplot(122)\n",
    "plt.imshow(edges, cmap='gray')\n",
    "plt.show()"
   ]
  },
  {
   "cell_type": "code",
   "execution_count": 4,
   "metadata": {},
   "outputs": [
    {
     "name": "stdout",
     "output_type": "stream",
     "text": [
      "25.857508659362793\n"
     ]
    },
    {
     "data": {
      "image/png": "[encoded data removed]",
      "text/plain": [
       "<Figure size 432x288 with 1 Axes>"
      ]
     },
     "metadata": {
      "needs_background": "light"
     },
     "output_type": "display_data"
    },
    {
     "name": "stdout",
     "output_type": "stream",
     "text": [
      "278\n"
     ]
    }
   ],
   "source": [
    "import time\n",
    "\n",
    "\n",
    "aMax = gray.shape[0]\n",
    "bMax = gray.shape[1]\n",
    "rMax = int(math.sqrt((aMax)**2 + (bMax)**2)) \n",
    "# print(aMax, bMax, rMax)\n",
    "\n",
    "acc = np.zeros((aMax,bMax, rMax), dtype=int)\n",
    "\n",
    "thetaRad = [i*np.pi/180 for i in range(360)]\n",
    "# print(thetaRad)\n",
    "\n",
    "\n",
    "startTime = time.time()\n",
    "for i in edgePts:\n",
    "    for r in range(5,rMax):\n",
    "        for theta in thetaRad:\n",
    "            a = i[0] - int(r*np.cos(theta))\n",
    "            b = i[1] - int(r*np.sin(theta))\n",
    "    #         print(a,b, i,round(r*np.sin(i*np.pi/180)) )\n",
    "            if a >= 0 and a < aMax and b >= 0 and b < bMax:\n",
    "                acc[(a,b,r)] += 1\n",
    "                    \n",
    "print(time.time()-startTime)\n",
    "plt.imshow(acc[:,:,15], cmap='gray')\n",
    "plt.show()\n",
    "\n",
    "print(np.amax(acc,axis=None))"
   ]
  },
  {
   "cell_type": "code",
   "execution_count": 92,
   "metadata": {},
   "outputs": [
    {
     "data": {
      "image/png": "[encoded data removed]",
      "text/plain": [
       "<Figure size 432x288 with 1 Axes>"
      ]
     },
     "metadata": {
      "needs_background": "light"
     },
     "output_type": "display_data"
    },
    {
     "name": "stdout",
     "output_type": "stream",
     "text": [
      "278\n"
     ]
    }
   ],
   "source": [
    "plt.imshow(acc[:,:,2], cmap='gray')\n",
    "plt.show()\n",
    "\n",
    "print(np.amax(acc,axis=None))"
   ]
  },
  {
   "cell_type": "code",
   "execution_count": 11,
   "metadata": {},
   "outputs": [
    {
     "data": {
      "image/png": "[encoded data removed]",
      "text/plain": [
       "<Figure size 432x288 with 1 Axes>"
      ]
     },
     "metadata": {
      "needs_background": "light"
     },
     "output_type": "display_data"
    }
   ],
   "source": [
    "# sobel edge filter\n",
    "\n",
    "sobelx = cv2.Sobel(gray,cv2.CV_64F,1,0,ksize=5)  # x\n",
    "sobely = cv2.Sobel(gray,cv2.CV_64F,0,1,ksize=5)  # y\n",
    "\n",
    "plt.imshow(sobelx, cmap='gray')\n",
    "plt.imshow(sobely, cmap='gray')\n",
    "plt.show()"
   ]
  },
  {
   "cell_type": "code",
   "execution_count": null,
   "metadata": {},
   "outputs": [],
   "source": []
  }
 ],
 "metadata": {
  "kernelspec": {
   "display_name": "Python 3",
   "language": "python",
   "name": "python3"
  },
  "language_info": {
   "codemirror_mode": {
    "name": "ipython",
    "version": 3
   },
   "file_extension": ".py",
   "mimetype": "text/x-python",
   "name": "python",
   "nbconvert_exporter": "python",
   "pygments_lexer": "ipython3",
   "version": "3.7.2"
  }
 },
 "nbformat": 4,
 "nbformat_minor": 2
}
