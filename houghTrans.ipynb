{
 "cells": [
  {
   "cell_type": "code",
   "execution_count": 65,
   "metadata": {},
   "outputs": [
    {
     "name": "stdout",
     "output_type": "stream",
     "text": [
      "[[[70.5 66.5 17.4]\n",
      "  [29.5 51.5 14.9]\n",
      "  [71.5 28.5  8.8]]]\n"
     ]
    },
    {
     "data": {
      "image/png": "[encoded data removed]",
      "text/plain": [
       "<Figure size 432x288 with 2 Axes>"
      ]
     },
     "metadata": {
      "needs_background": "light"
     },
     "output_type": "display_data"
    }
   ],
   "source": [
    "import cv2\n",
    "import numpy as np\n",
    "import math\n",
    "from matplotlib import pyplot as plt\n",
    "\n",
    "\n",
    "imgfile = 'images/multiple.jpg'\n",
    "\n",
    "image = cv2.imread(imgfile)\n",
    "output = image.copy()\n",
    "imgBlur = cv2.medianBlur(image, 5)\n",
    "gray = cv2.cvtColor(imgBlur,cv2.COLOR_BGR2GRAY)\n",
    "\n",
    "# print(image)\n",
    "# imagegray = cv2.cvtColor(image, cv2.COLOR_BGR2GRAY)\n",
    "\n",
    "circles = cv2.HoughCircles(gray, cv2.HOUGH_GRADIENT,1,5, param1 = 50, param2 = 30)\n",
    "\n",
    "print(circles)\n",
    "\n",
    "if circles is not None:\n",
    "    circles = np.round(circles[0, :]).astype(\"int\")\n",
    "\n",
    "    for (x, y, r) in circles:\n",
    "        cv2.circle(output, (x,y), r, (255, 0,0), 2)\n",
    "        # cv2.rectangle(output, ?)\n",
    "\n",
    "\n",
    "fig = plt.figure()\n",
    "plt.subplot(1,2,1)\n",
    "plt.imshow(image)\n",
    "\n",
    "plt.subplot(1,2,2)\n",
    "plt.imshow(output)\n",
    "\n",
    "plt.show()\n",
    "\n",
    "# plt.imshow\n",
    "\n",
    "# cv2.imshow(\"output\", np.hstack([image, output]))\n",
    "# cv2.waitKey(0)"
   ]
  },
  {
   "cell_type": "code",
   "execution_count": 75,
   "metadata": {},
   "outputs": [
    {
     "name": "stdout",
     "output_type": "stream",
     "text": [
      "(100, 100, 141)\n"
     ]
    },
    {
     "data": {
      "image/png": "[encoded data removed]",
      "text/plain": [
       "<Figure size 432x288 with 1 Axes>"
      ]
     },
     "metadata": {
      "needs_background": "light"
     },
     "output_type": "display_data"
    }
   ],
   "source": [
    "# Custom implementation\n",
    "\n",
    "\n",
    "edges = cv2.Canny(gray,30,50)\n",
    "[ximg,yimg] = np.nonzero(edges)\n",
    "edgePts = np.vstack([ximg,yimg]).T\n",
    "\n",
    "# print(edgePts)\n",
    "xMax = gray.shape[0]\n",
    "yMax = gray.shape[0]\n",
    "rMax = int(math.sqrt((xMax)**2 + (yMax)**2)) \n",
    "\n",
    "# print(rMax)\n",
    "acc = np.zeros((xMax,yMax,rMax), dtype = int)\n",
    "\n",
    "# print(acc[0,0,0])\n",
    "\n",
    "# acc[0,0,0] = 1\n",
    "\n",
    "print(acc.shape)\n",
    "\n",
    "for i in edgePts:\n",
    "    for a in range(xMax):\n",
    "        for b in range(yMax):\n",
    "            r = int(math.sqrt((i[0] - a)**2 + (i[1] - b)**2))\n",
    "            acc[a,b,r] += 1\n",
    "            \n",
    "# print(acc[:,:,50])\n",
    "plt.imshow(acc[:,:,100], cmap='gray')\n",
    "plt.show()\n"
   ]
  },
  {
   "cell_type": "code",
   "execution_count": null,
   "metadata": {},
   "outputs": [],
   "source": []
  },
  {
   "cell_type": "code",
   "execution_count": null,
   "metadata": {},
   "outputs": [],
   "source": []
  }
 ],
 "metadata": {
  "kernelspec": {
   "display_name": "Python 3",
   "language": "python",
   "name": "python3"
  },
  "language_info": {
   "codemirror_mode": {
    "name": "ipython",
    "version": 3
   },
   "file_extension": ".py",
   "mimetype": "text/x-python",
   "name": "python",
   "nbconvert_exporter": "python",
   "pygments_lexer": "ipython3",
   "version": "3.7.2"
  }
 },
 "nbformat": 4,
 "nbformat_minor": 2
}
